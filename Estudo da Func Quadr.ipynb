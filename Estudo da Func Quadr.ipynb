{
 "cells": [
  {
   "cell_type": "code",
   "execution_count": 4,
   "id": "2e8c4dcc",
   "metadata": {},
   "outputs": [],
   "source": [
    "# Estudo da Função Quadrática - Gerado pelo ChatGPT em duas ou tres versões onde\n",
    "# foram escolhidos os melhores códigos para dar nesta vesão final completa\n",
    "\n",
    "import math\n",
    "import matplotlib.pyplot as plt\n",
    "import numpy as np\n",
    "\n",
    "def quadr(a, b, c):\n",
    "    # Calcula o discriminante\n",
    "    delta = b**2 - 4*a*c\n",
    "    print(f\"Delta: \",delta) \n",
    "    \n",
    "    # Encontra as coordenadas do vértice\n",
    "    x_vertice = -b / (2*a)\n",
    "    y_vertice = -delta / (4*a)\n",
    "    print(f\"As coordenadas do vértice são: (\", x_vertice, \",\", y_vertice, \")\")\n",
    "\n",
    "    # Verifica se há raízes reais e as encontra\n",
    "    if delta > 0:\n",
    "        x1 = (-b + math.sqrt(delta)) / (2*a)\n",
    "        x2 = (-b - math.sqrt(delta)) / (2*a)\n",
    "        print(f\"A função corta o eixo x em dois pontos:  x1 =\", x1, \"e  x2 =\", x2)\n",
    "        \n",
    "    elif delta == 0:\n",
    "         x = -b / (2*a)\n",
    "         print(f\"O vértice da função toca o eixo x no ponto: \",x)\n",
    "    else:\n",
    "        x1_real = -b / (2*a)\n",
    "        x1_imag = math.sqrt(abs(delta)) / (2*a)\n",
    "        x2_real = -b / (2*a)\n",
    "        x2_imag = -math.sqrt(abs(delta)) / (2*a)\n",
    "        print(f\"Raízes complexas: {x1_real} + {x1_imag}j e {x2_real} + {x2_imag}j\")\n",
    "    \n",
    "    # Plota o gráfico da função\n",
    "    x = np.linspace(x_vertice - 6, x_vertice + 6, 1000)\n",
    "    y = [a*(i**2) + b*i + c for i in x]\n",
    "    plt.plot(x, y)\n",
    "    plt.xlabel('x')\n",
    "    plt.ylabel('y')\n",
    "    plt.title('Gráfico da função quadrática')\n",
    "    plt.grid(True)\n",
    "\n",
    "    \n",
    "    # Plota o ponto do vértice\n",
    "    plt.plot(x_vertice, y_vertice, marker='o')\n",
    "    \n",
    "    # Plota as raízes reais quando existem\n",
    "    if delta > 0:\n",
    "        plt.plot(x1, 0, marker='o')\n",
    "        plt.plot(x2, 0, marker='o')\n",
    "    elif delta ==0:\n",
    "        plt.plot(x_vertice,0,marker='o')\n",
    "plt.show()\n",
    "\n",
    "# Exemplo de uso\n",
    "#quadr(1, 2, 1)\n",
    "\n",
    "# Para melhorar: colocar as raizes reais na forma de fração e reduzir o numero de casas decimais das raizes complexas\n"
   ]
  },
  {
   "cell_type": "code",
   "execution_count": 5,
   "id": "915ae1c2",
   "metadata": {},
   "outputs": [
    {
     "name": "stdout",
     "output_type": "stream",
     "text": [
      "Delta:  116\n",
      "As coordenadas do vértice são: ( 7.0 , 29.0 )\n",
      "A função corta o eixo x em dois pontos:  x1 = 1.6148351928654963 e  x2 = 12.385164807134505\n"
     ]
    },
    {
     "data": {
      "image/png": "[encoded data removed]",
      "text/plain": [
       "<Figure size 432x288 with 1 Axes>"
      ]
     },
     "metadata": {
      "needs_background": "light"
     },
     "output_type": "display_data"
    }
   ],
   "source": [
    "quadr(-1,14,-20)"
   ]
  },
  {
   "cell_type": "code",
   "execution_count": null,
   "id": "e93fbec9",
   "metadata": {},
   "outputs": [],
   "source": []
  }
 ],
 "metadata": {
  "kernelspec": {
   "display_name": "Python 3",
   "language": "python",
   "name": "python3"
  },
  "language_info": {
   "codemirror_mode": {
    "name": "ipython",
    "version": 3
   },
   "file_extension": ".py",
   "mimetype": "text/x-python",
   "name": "python",
   "nbconvert_exporter": "python",
   "pygments_lexer": "ipython3",
   "version": "3.8.8"
  }
 },
 "nbformat": 4,
 "nbformat_minor": 5
}
